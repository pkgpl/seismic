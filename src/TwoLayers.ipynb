{
 "cells": [
  {
   "cell_type": "code",
   "execution_count": 1,
   "id": "loved-handling",
   "metadata": {},
   "outputs": [],
   "source": [
    "%matplotlib inline\n",
    "import matplotlib.pyplot as plt\n",
    "import numpy as np\n",
    "import pandas as pd"
   ]
  },
  {
   "cell_type": "code",
   "execution_count": 2,
   "id": "major-threat",
   "metadata": {},
   "outputs": [],
   "source": [
    "df = pd.read_csv(\"../data/TwoLayers.csv\")"
   ]
  },
  {
   "cell_type": "code",
   "execution_count": 3,
   "id": "clinical-simpson",
   "metadata": {},
   "outputs": [
    {
     "data": {
      "text/html": [
       "<div>\n",
       "<style scoped>\n",
       "    .dataframe tbody tr th:only-of-type {\n",
       "        vertical-align: middle;\n",
       "    }\n",
       "\n",
       "    .dataframe tbody tr th {\n",
       "        vertical-align: top;\n",
       "    }\n",
       "\n",
       "    .dataframe thead th {\n",
       "        text-align: right;\n",
       "    }\n",
       "</style>\n",
       "<table border=\"1\" class=\"dataframe\">\n",
       "  <thead>\n",
       "    <tr style=\"text-align: right;\">\n",
       "      <th></th>\n",
       "      <th>t</th>\n",
       "      <th>x</th>\n",
       "    </tr>\n",
       "  </thead>\n",
       "  <tbody>\n",
       "    <tr>\n",
       "      <th>0</th>\n",
       "      <td>112.682447</td>\n",
       "      <td>29.734906</td>\n",
       "    </tr>\n",
       "    <tr>\n",
       "      <th>1</th>\n",
       "      <td>113.100490</td>\n",
       "      <td>32.612783</td>\n",
       "    </tr>\n",
       "    <tr>\n",
       "      <th>2</th>\n",
       "      <td>116.062501</td>\n",
       "      <td>35.625211</td>\n",
       "    </tr>\n",
       "    <tr>\n",
       "      <th>3</th>\n",
       "      <td>116.171738</td>\n",
       "      <td>38.366331</td>\n",
       "    </tr>\n",
       "    <tr>\n",
       "      <th>4</th>\n",
       "      <td>117.547707</td>\n",
       "      <td>41.243263</td>\n",
       "    </tr>\n",
       "    <tr>\n",
       "      <th>5</th>\n",
       "      <td>118.583361</td>\n",
       "      <td>44.394653</td>\n",
       "    </tr>\n",
       "    <tr>\n",
       "      <th>6</th>\n",
       "      <td>121.226062</td>\n",
       "      <td>47.407396</td>\n",
       "    </tr>\n",
       "    <tr>\n",
       "      <th>7</th>\n",
       "      <td>121.623098</td>\n",
       "      <td>50.559417</td>\n",
       "    </tr>\n",
       "    <tr>\n",
       "      <th>8</th>\n",
       "      <td>123.297369</td>\n",
       "      <td>53.710177</td>\n",
       "    </tr>\n",
       "    <tr>\n",
       "      <th>9</th>\n",
       "      <td>124.045224</td>\n",
       "      <td>56.450667</td>\n",
       "    </tr>\n",
       "    <tr>\n",
       "      <th>10</th>\n",
       "      <td>125.091381</td>\n",
       "      <td>59.464985</td>\n",
       "    </tr>\n",
       "    <tr>\n",
       "      <th>11</th>\n",
       "      <td>126.456847</td>\n",
       "      <td>62.478989</td>\n",
       "    </tr>\n",
       "  </tbody>\n",
       "</table>\n",
       "</div>"
      ],
      "text/plain": [
       "             t          x\n",
       "0   112.682447  29.734906\n",
       "1   113.100490  32.612783\n",
       "2   116.062501  35.625211\n",
       "3   116.171738  38.366331\n",
       "4   117.547707  41.243263\n",
       "5   118.583361  44.394653\n",
       "6   121.226062  47.407396\n",
       "7   121.623098  50.559417\n",
       "8   123.297369  53.710177\n",
       "9   124.045224  56.450667\n",
       "10  125.091381  59.464985\n",
       "11  126.456847  62.478989"
      ]
     },
     "execution_count": 3,
     "metadata": {},
     "output_type": "execute_result"
    }
   ],
   "source": [
    "df"
   ]
  },
  {
   "cell_type": "code",
   "execution_count": 4,
   "id": "dedicated-worker",
   "metadata": {},
   "outputs": [
    {
     "data": {
      "text/html": [
       "<div>\n",
       "<style scoped>\n",
       "    .dataframe tbody tr th:only-of-type {\n",
       "        vertical-align: middle;\n",
       "    }\n",
       "\n",
       "    .dataframe tbody tr th {\n",
       "        vertical-align: top;\n",
       "    }\n",
       "\n",
       "    .dataframe thead th {\n",
       "        text-align: right;\n",
       "    }\n",
       "</style>\n",
       "<table border=\"1\" class=\"dataframe\">\n",
       "  <thead>\n",
       "    <tr style=\"text-align: right;\">\n",
       "      <th></th>\n",
       "      <th>t</th>\n",
       "      <th>x</th>\n",
       "    </tr>\n",
       "  </thead>\n",
       "  <tbody>\n",
       "    <tr>\n",
       "      <th>0</th>\n",
       "      <td>112.682447</td>\n",
       "      <td>30</td>\n",
       "    </tr>\n",
       "    <tr>\n",
       "      <th>1</th>\n",
       "      <td>113.100490</td>\n",
       "      <td>33</td>\n",
       "    </tr>\n",
       "    <tr>\n",
       "      <th>2</th>\n",
       "      <td>116.062501</td>\n",
       "      <td>36</td>\n",
       "    </tr>\n",
       "    <tr>\n",
       "      <th>3</th>\n",
       "      <td>116.171738</td>\n",
       "      <td>39</td>\n",
       "    </tr>\n",
       "    <tr>\n",
       "      <th>4</th>\n",
       "      <td>117.547707</td>\n",
       "      <td>42</td>\n",
       "    </tr>\n",
       "    <tr>\n",
       "      <th>5</th>\n",
       "      <td>118.583361</td>\n",
       "      <td>45</td>\n",
       "    </tr>\n",
       "    <tr>\n",
       "      <th>6</th>\n",
       "      <td>121.226062</td>\n",
       "      <td>48</td>\n",
       "    </tr>\n",
       "    <tr>\n",
       "      <th>7</th>\n",
       "      <td>121.623098</td>\n",
       "      <td>51</td>\n",
       "    </tr>\n",
       "    <tr>\n",
       "      <th>8</th>\n",
       "      <td>123.297369</td>\n",
       "      <td>54</td>\n",
       "    </tr>\n",
       "    <tr>\n",
       "      <th>9</th>\n",
       "      <td>124.045224</td>\n",
       "      <td>57</td>\n",
       "    </tr>\n",
       "    <tr>\n",
       "      <th>10</th>\n",
       "      <td>125.091381</td>\n",
       "      <td>60</td>\n",
       "    </tr>\n",
       "    <tr>\n",
       "      <th>11</th>\n",
       "      <td>126.456847</td>\n",
       "      <td>63</td>\n",
       "    </tr>\n",
       "  </tbody>\n",
       "</table>\n",
       "</div>"
      ],
      "text/plain": [
       "             t   x\n",
       "0   112.682447  30\n",
       "1   113.100490  33\n",
       "2   116.062501  36\n",
       "3   116.171738  39\n",
       "4   117.547707  42\n",
       "5   118.583361  45\n",
       "6   121.226062  48\n",
       "7   121.623098  51\n",
       "8   123.297369  54\n",
       "9   124.045224  57\n",
       "10  125.091381  60\n",
       "11  126.456847  63"
      ]
     },
     "execution_count": 4,
     "metadata": {},
     "output_type": "execute_result"
    }
   ],
   "source": [
    "df[\"x\"]= 30 + 3*np.arange(12)\n",
    "df"
   ]
  },
  {
   "cell_type": "markdown",
   "id": "charitable-omaha",
   "metadata": {},
   "source": [
    "$$t = \\frac{ \\sqrt{x^2+4h_1^2}}{ V_1}$$"
   ]
  },
  {
   "cell_type": "markdown",
   "id": "earlier-verse",
   "metadata": {},
   "source": [
    "$$t^2 = \\frac{ 1}{V_1^2 }x^2 + \\frac{ 4h_1^2}{ V_1^2}$$"
   ]
  },
  {
   "cell_type": "code",
   "execution_count": 5,
   "id": "efficient-employee",
   "metadata": {},
   "outputs": [
    {
     "data": {
      "text/html": [
       "<div>\n",
       "<style scoped>\n",
       "    .dataframe tbody tr th:only-of-type {\n",
       "        vertical-align: middle;\n",
       "    }\n",
       "\n",
       "    .dataframe tbody tr th {\n",
       "        vertical-align: top;\n",
       "    }\n",
       "\n",
       "    .dataframe thead th {\n",
       "        text-align: right;\n",
       "    }\n",
       "</style>\n",
       "<table border=\"1\" class=\"dataframe\">\n",
       "  <thead>\n",
       "    <tr style=\"text-align: right;\">\n",
       "      <th></th>\n",
       "      <th>t</th>\n",
       "      <th>x</th>\n",
       "      <th>t^2</th>\n",
       "      <th>x^2</th>\n",
       "    </tr>\n",
       "  </thead>\n",
       "  <tbody>\n",
       "    <tr>\n",
       "      <th>0</th>\n",
       "      <td>112.682447</td>\n",
       "      <td>30</td>\n",
       "      <td>12697.333918</td>\n",
       "      <td>900</td>\n",
       "    </tr>\n",
       "    <tr>\n",
       "      <th>1</th>\n",
       "      <td>113.100490</td>\n",
       "      <td>33</td>\n",
       "      <td>12791.720813</td>\n",
       "      <td>1089</td>\n",
       "    </tr>\n",
       "    <tr>\n",
       "      <th>2</th>\n",
       "      <td>116.062501</td>\n",
       "      <td>36</td>\n",
       "      <td>13470.504028</td>\n",
       "      <td>1296</td>\n",
       "    </tr>\n",
       "    <tr>\n",
       "      <th>3</th>\n",
       "      <td>116.171738</td>\n",
       "      <td>39</td>\n",
       "      <td>13495.872663</td>\n",
       "      <td>1521</td>\n",
       "    </tr>\n",
       "    <tr>\n",
       "      <th>4</th>\n",
       "      <td>117.547707</td>\n",
       "      <td>42</td>\n",
       "      <td>13817.463486</td>\n",
       "      <td>1764</td>\n",
       "    </tr>\n",
       "    <tr>\n",
       "      <th>5</th>\n",
       "      <td>118.583361</td>\n",
       "      <td>45</td>\n",
       "      <td>14062.013421</td>\n",
       "      <td>2025</td>\n",
       "    </tr>\n",
       "    <tr>\n",
       "      <th>6</th>\n",
       "      <td>121.226062</td>\n",
       "      <td>48</td>\n",
       "      <td>14695.758189</td>\n",
       "      <td>2304</td>\n",
       "    </tr>\n",
       "    <tr>\n",
       "      <th>7</th>\n",
       "      <td>121.623098</td>\n",
       "      <td>51</td>\n",
       "      <td>14792.177919</td>\n",
       "      <td>2601</td>\n",
       "    </tr>\n",
       "    <tr>\n",
       "      <th>8</th>\n",
       "      <td>123.297369</td>\n",
       "      <td>54</td>\n",
       "      <td>15202.241218</td>\n",
       "      <td>2916</td>\n",
       "    </tr>\n",
       "    <tr>\n",
       "      <th>9</th>\n",
       "      <td>124.045224</td>\n",
       "      <td>57</td>\n",
       "      <td>15387.217654</td>\n",
       "      <td>3249</td>\n",
       "    </tr>\n",
       "    <tr>\n",
       "      <th>10</th>\n",
       "      <td>125.091381</td>\n",
       "      <td>60</td>\n",
       "      <td>15647.853645</td>\n",
       "      <td>3600</td>\n",
       "    </tr>\n",
       "    <tr>\n",
       "      <th>11</th>\n",
       "      <td>126.456847</td>\n",
       "      <td>63</td>\n",
       "      <td>15991.334172</td>\n",
       "      <td>3969</td>\n",
       "    </tr>\n",
       "  </tbody>\n",
       "</table>\n",
       "</div>"
      ],
      "text/plain": [
       "             t   x           t^2   x^2\n",
       "0   112.682447  30  12697.333918   900\n",
       "1   113.100490  33  12791.720813  1089\n",
       "2   116.062501  36  13470.504028  1296\n",
       "3   116.171738  39  13495.872663  1521\n",
       "4   117.547707  42  13817.463486  1764\n",
       "5   118.583361  45  14062.013421  2025\n",
       "6   121.226062  48  14695.758189  2304\n",
       "7   121.623098  51  14792.177919  2601\n",
       "8   123.297369  54  15202.241218  2916\n",
       "9   124.045224  57  15387.217654  3249\n",
       "10  125.091381  60  15647.853645  3600\n",
       "11  126.456847  63  15991.334172  3969"
      ]
     },
     "execution_count": 5,
     "metadata": {},
     "output_type": "execute_result"
    }
   ],
   "source": [
    "df[\"t^2\"] = df[\"t\"]**2\n",
    "df[\"x^2\"] = df[\"x\"]**2\n",
    "df"
   ]
  },
  {
   "cell_type": "code",
   "execution_count": 7,
   "id": "prime-pattern",
   "metadata": {},
   "outputs": [
    {
     "data": {
      "text/plain": [
       "(0.0, 130.0)"
      ]
     },
     "execution_count": 7,
     "metadata": {},
     "output_type": "execute_result"
    },
    {
     "data": {
      "image/png": "[encoded data removed]",
      "text/plain": [
       "<Figure size 432x288 with 1 Axes>"
      ]
     },
     "metadata": {
      "needs_background": "light"
     },
     "output_type": "display_data"
    }
   ],
   "source": [
    "df.plot.scatter(x=\"x\", y=\"t\")\n",
    "plt.ylim([0,130])"
   ]
  },
  {
   "cell_type": "code",
   "execution_count": 8,
   "id": "ambient-stanford",
   "metadata": {},
   "outputs": [
    {
     "data": {
      "text/plain": [
       "<AxesSubplot:xlabel='x^2', ylabel='t^2'>"
      ]
     },
     "execution_count": 8,
     "metadata": {},
     "output_type": "execute_result"
    },
    {
     "data": {
      "image/png": "[encoded data removed]",
      "text/plain": [
       "<Figure size 432x288 with 1 Axes>"
      ]
     },
     "metadata": {
      "needs_background": "light"
     },
     "output_type": "display_data"
    }
   ],
   "source": [
    "df.plot.scatter(x=\"x^2\", y=\"t^2\")"
   ]
  },
  {
   "cell_type": "code",
   "execution_count": 9,
   "id": "correct-comparative",
   "metadata": {},
   "outputs": [],
   "source": [
    "from sklearn.linear_model import LinearRegression\n",
    "\n",
    "lr = LinearRegression()"
   ]
  },
  {
   "cell_type": "code",
   "execution_count": 10,
   "id": "trying-cyprus",
   "metadata": {},
   "outputs": [
    {
     "data": {
      "text/plain": [
       "LinearRegression()"
      ]
     },
     "execution_count": 10,
     "metadata": {},
     "output_type": "execute_result"
    }
   ],
   "source": [
    "x_sq = df[\"x^2\"].values.reshape(-1,1)\n",
    "lr.fit(x_sq, df[\"t^2\"])"
   ]
  },
  {
   "cell_type": "code",
   "execution_count": 11,
   "id": "capable-athens",
   "metadata": {},
   "outputs": [
    {
     "data": {
      "text/plain": [
       "(array([1.08366112]), 11878.255357117452)"
      ]
     },
     "execution_count": 11,
     "metadata": {},
     "output_type": "execute_result"
    }
   ],
   "source": [
    "lr.coef_, lr.intercept_"
   ]
  },
  {
   "cell_type": "code",
   "execution_count": 13,
   "id": "committed-usage",
   "metadata": {},
   "outputs": [
    {
     "data": {
      "text/plain": [
       "(0.0, 20000.0)"
      ]
     },
     "execution_count": 13,
     "metadata": {},
     "output_type": "execute_result"
    },
    {
     "data": {
      "image/png": "[encoded data removed]",
      "text/plain": [
       "<Figure size 432x288 with 1 Axes>"
      ]
     },
     "metadata": {
      "needs_background": "light"
     },
     "output_type": "display_data"
    }
   ],
   "source": [
    "df.plot.scatter(x=\"x^2\", y=\"t^2\")\n",
    "\n",
    "x=np.linspace(0,4000,10)\n",
    "plt.plot(x, lr.coef_[0] * x + lr.intercept_)\n",
    "plt.xlim([0,4000])\n",
    "plt.ylim([0,20000])"
   ]
  },
  {
   "cell_type": "code",
   "execution_count": 14,
   "id": "serious-current",
   "metadata": {},
   "outputs": [
    {
     "data": {
      "text/plain": [
       "0.9606236064089303"
      ]
     },
     "execution_count": 14,
     "metadata": {},
     "output_type": "execute_result"
    }
   ],
   "source": [
    "V = 1/np.sqrt(lr.coef_[0])\n",
    "V"
   ]
  },
  {
   "cell_type": "code",
   "execution_count": 15,
   "id": "centered-lincoln",
   "metadata": {},
   "outputs": [
    {
     "data": {
      "text/plain": [
       "52.3479390239865"
      ]
     },
     "execution_count": 15,
     "metadata": {},
     "output_type": "execute_result"
    }
   ],
   "source": [
    "h = np.sqrt(lr.intercept_) * V / 2\n",
    "h"
   ]
  },
  {
   "cell_type": "code",
   "execution_count": null,
   "id": "superior-george",
   "metadata": {},
   "outputs": [],
   "source": []
  }
 ],
 "metadata": {
  "kernelspec": {
   "display_name": "Python 3",
   "language": "python",
   "name": "python3"
  },
  "language_info": {
   "codemirror_mode": {
    "name": "ipython",
    "version": 3
   },
   "file_extension": ".py",
   "mimetype": "text/x-python",
   "name": "python",
   "nbconvert_exporter": "python",
   "pygments_lexer": "ipython3",
   "version": "3.7.5"
  }
 },
 "nbformat": 4,
 "nbformat_minor": 5
}
